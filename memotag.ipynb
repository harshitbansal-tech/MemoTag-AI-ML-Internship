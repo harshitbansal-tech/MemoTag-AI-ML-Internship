{
 "cells": [
  {
   "cell_type": "code",
   "execution_count": 4,
   "id": "23257e96-b1bf-4722-ae87-ed7f665559ab",
   "metadata": {},
   "outputs": [
    {
     "name": "stdout",
     "output_type": "stream",
     "text": [
      "WARNING:tensorflow:From C:\\Users\\harsh\\AppData\\Local\\Programs\\Python\\Python310\\lib\\site-packages\\keras\\src\\losses.py:2976: The name tf.losses.sparse_softmax_cross_entropy is deprecated. Please use tf.compat.v1.losses.sparse_softmax_cross_entropy instead.\n",
      "\n"
     ]
    }
   ],
   "source": [
    "import os\n",
    "import numpy as np\n",
    "import pandas as pd\n",
    "import librosa\n",
    "import whisper\n",
    "import re\n",
    "import matplotlib.pyplot as plt\n",
    "import seaborn as sns\n",
    "from sklearn.preprocessing import StandardScaler\n",
    "from sklearn.decomposition import PCA\n",
    "from sklearn.ensemble import IsolationForest\n",
    "from transformers import pipeline\n",
    "from sklearn.cluster import KMeans"
   ]
  },
  {
   "cell_type": "code",
   "execution_count": 5,
   "id": "d1416dde-0b02-47d3-8f6f-a9797b218b0f",
   "metadata": {},
   "outputs": [
    {
     "name": "stderr",
     "output_type": "stream",
     "text": [
      "100%|███████████████████████████████████████| 139M/139M [00:49<00:00, 2.95MiB/s]\n",
      "No model was supplied, defaulted to distilbert/distilbert-base-uncased-finetuned-sst-2-english and revision 714eb0f (https://huggingface.co/distilbert/distilbert-base-uncased-finetuned-sst-2-english).\n",
      "Using a pipeline without specifying a model name and revision in production is not recommended.\n"
     ]
    },
    {
     "data": {
      "application/vnd.jupyter.widget-view+json": {
       "model_id": "3349338228c94471abf110ac4839b806",
       "version_major": 2,
       "version_minor": 0
      },
      "text/plain": [
       "config.json:   0%|          | 0.00/629 [00:00<?, ?B/s]"
      ]
     },
     "metadata": {},
     "output_type": "display_data"
    },
    {
     "name": "stderr",
     "output_type": "stream",
     "text": [
      "Xet Storage is enabled for this repo, but the 'hf_xet' package is not installed. Falling back to regular HTTP download. For better performance, install the package with: `pip install huggingface_hub[hf_xet]` or `pip install hf_xet`\n"
     ]
    },
    {
     "data": {
      "application/vnd.jupyter.widget-view+json": {
       "model_id": "cfe903a7987b47c9bdbf20512500bb95",
       "version_major": 2,
       "version_minor": 0
      },
      "text/plain": [
       "model.safetensors:   0%|          | 0.00/268M [00:00<?, ?B/s]"
      ]
     },
     "metadata": {},
     "output_type": "display_data"
    },
    {
     "data": {
      "application/vnd.jupyter.widget-view+json": {
       "model_id": "27a8f17bf6c847269478c256567c7fd1",
       "version_major": 2,
       "version_minor": 0
      },
      "text/plain": [
       "tokenizer_config.json:   0%|          | 0.00/48.0 [00:00<?, ?B/s]"
      ]
     },
     "metadata": {},
     "output_type": "display_data"
    },
    {
     "data": {
      "application/vnd.jupyter.widget-view+json": {
       "model_id": "0259287841cd453fa813d72a3fdc4e97",
       "version_major": 2,
       "version_minor": 0
      },
      "text/plain": [
       "vocab.txt:   0%|          | 0.00/232k [00:00<?, ?B/s]"
      ]
     },
     "metadata": {},
     "output_type": "display_data"
    },
    {
     "name": "stderr",
     "output_type": "stream",
     "text": [
      "Device set to use cpu\n"
     ]
    }
   ],
   "source": [
    "model = whisper.load_model(\"base\")\n",
    "sentiment_pipeline = pipeline(\"sentiment-analysis\")"
   ]
  },
  {
   "cell_type": "code",
   "execution_count": 13,
   "id": "107c86c1-8a9d-4a10-a29f-012ea3ed6b41",
   "metadata": {},
   "outputs": [],
   "source": [
    "def load_audio_files(base_path):\n",
    "    audio_data = []\n",
    "    labels = []\n",
    "    pd_path = os.path.join(base_path, \"PD_AH\", \"PD_AH\")\n",
    "    ac_path = os.path.join(base_path, \"HC_AH\")\n",
    "    for path, label in [(pd_path, \"parkinson\"), (ac_path, \"common\")]:\n",
    "        for file in os.listdir(path):\n",
    "            if file.endswith(\".wav\"):\n",
    "                filepath = os.path.join(path, file)\n",
    "                y, sr = librosa.load(filepath, sr=None)\n",
    "                audio_data.append((file, y, sr))\n",
    "                labels.append(label)\n",
    "    return audio_data, labels"
   ]
  },
  {
   "cell_type": "code",
   "execution_count": 7,
   "id": "e9d19c61-984a-4ee2-9d35-a6cda3fdd013",
   "metadata": {},
   "outputs": [],
   "source": [
    "def extract_audio_features(audio_data):\n",
    "    features = []\n",
    "    for filename, y, sr in audio_data:\n",
    "        duration = librosa.get_duration(y=y, sr=sr)\n",
    "        tempo, _ = librosa.beat.beat_track(y=y, sr=sr)\n",
    "        pitches, magnitudes = librosa.piptrack(y=y, sr=sr)\n",
    "        pitch_mean = np.mean(pitches[pitches > 0])\n",
    "        zcr = np.mean(librosa.feature.zero_crossing_rate(y)[0])\n",
    "        mfccs = librosa.feature.mfcc(y=y, sr=sr)\n",
    "        mfcc_mean = np.mean(mfccs)\n",
    "        features.append([filename, duration, tempo, pitch_mean, zcr, mfcc_mean])\n",
    "    return pd.DataFrame(features, columns=[\"filename\", \"duration\", \"tempo\", \"pitch_mean\", \"zcr\", \"mfcc_mean\"])\n",
    "    "
   ]
  },
  {
   "cell_type": "code",
   "execution_count": 22,
   "id": "93bf7f6d-57df-4256-aae2-15b8fb5f0bd8",
   "metadata": {},
   "outputs": [],
   "source": [
    "import soundfile as sf\n",
    "\n",
    "def transcribe(audio_data):\n",
    "    transcripts = []\n",
    "\n",
    "    for filename, y, sr in audio_data:\n",
    "        if sr != 16000:\n",
    "            y = librosa.resample(y, orig_sr=sr, target_sr=16000)\n",
    "            sr = 16000\n",
    "        \n",
    "        if y.ndim > 1:\n",
    "            y = np.mean(y, axis=1)\n",
    "\n",
    "        result = model.transcribe(y, language=\"en\", fp16=False)\n",
    "        transcripts.append((filename, result[\"text\"]))\n",
    "\n",
    "    return transcripts"
   ]
  },
  {
   "cell_type": "code",
   "execution_count": 18,
   "id": "f7082c20-275f-4fd1-a749-6fdfec0bf6fa",
   "metadata": {},
   "outputs": [],
   "source": [
    "def extract_nlp_features(transcripts):\n",
    "    features = []\n",
    "    for filename, text in transcripts:\n",
    "        words = text.split()\n",
    "        wpm = len(words) / 0.5\n",
    "        hesitations = len(re.findall(r\"\\b(uh|um|er|ah)\\b\", text.lower()))\n",
    "        avg_word_len = np.mean([len(w) for w in words]) if words else 0\n",
    "        sentiment = sentiment_pipeline(text)[0][\"score\"]\n",
    "        features.append([filename, wpm, hesitations, avg_word_len, sentiment])\n",
    "    return pd.DataFrame(features, columns=[\"filename\", \"wpm\", \"hesitations\", \"avg_word_len\", \"sentiment_score\"])"
   ]
  },
  {
   "cell_type": "code",
   "execution_count": 19,
   "id": "306eb10d-a785-40ad-9197-2045feeadacd",
   "metadata": {},
   "outputs": [],
   "source": [
    "def merge_features(audio_df, nlp_df, labels):\n",
    "    df = pd.merge(audio_df, nlp_df, on=\"filename\")\n",
    "    df[\"label\"] = labels\n",
    "    return df"
   ]
  },
  {
   "cell_type": "code",
   "execution_count": 20,
   "id": "8187d0bf-1f82-4809-9991-dfa4196ec94f",
   "metadata": {},
   "outputs": [],
   "source": [
    "def detect_anomalies(df):\n",
    "    X = df.drop(columns=[\"filename\", \"label\"])\n",
    "    X_scaled = StandardScaler().fit_transform(X)\n",
    "    iso = IsolationForest(contamination=0.2)\n",
    "    df[\"anomaly\"] = iso.fit_predict(X_scaled)\n",
    "    return df, X_scaled\n",
    "\n",
    "def visualize_clusters(X_scaled, labels):\n",
    "    pca = PCA(n_components=2)\n",
    "    X_pca = pca.fit_transform(X_scaled)\n",
    "    kmeans = KMeans(n_clusters=2)\n",
    "    clusters = kmeans.fit_predict(X_pca)\n",
    "    plt.figure(figsize=(8, 6))\n",
    "    sns.scatterplot(x=X_pca[:,0], y=X_pca[:,1], hue=labels, style=clusters)\n",
    "    plt.title(\"Cognitive Pattern Clusters (PCA)\")\n",
    "    plt.show()"
   ]
  },
  {
   "cell_type": "code",
   "execution_count": 23,
   "id": "b67290c5-9b74-490a-b031-6ae1eddc38b5",
   "metadata": {},
   "outputs": [
    {
     "data": {
      "image/png": "[encoded data removed]",
      "text/plain": [
       "<Figure size 800x600 with 1 Axes>"
      ]
     },
     "metadata": {},
     "output_type": "display_data"
    },
    {
     "name": "stdout",
     "output_type": "stream",
     "text": [
      "                                             filename  duration  \\\n",
      "0   AH_545616858-3A749CBC-3FEB-4D35-820E-E45C3E5B9...  5.487875   \n",
      "1   AH_545622717-461DFFFE-54AF-42AF-BA78-528BD505D...  3.028250   \n",
      "2   AH_545622718-C052AD58-5E6B-4ADC-855C-F76B66BAF...  1.710125   \n",
      "3   AH_545622719-52C23861-6E0D-41E0-A3D8-9358C28C0...  5.484125   \n",
      "4   AH_545622720-E1486AF6-8C95-47EB-829B-4D62698C9...  3.682375   \n",
      "..                                                ...       ...   \n",
      "76   AH_803T_66094C40-AE64-4AD3-AA97-B052C69DA3EF.wav  2.731000   \n",
      "77   AH_821C_8F9D5EF0-18B2-4967-B36D-82E014792BC3.wav  4.650500   \n",
      "78   AH_888A_7F1444B0-B12C-4B55-AF2A-463395DCAF3C.wav  2.839625   \n",
      "79   AH_904H_85B22FC1-BA09-4A17-A374-B00B2445CD27.wav  3.024375   \n",
      "80   AH_942A_3F7867F3-1AE2-4BE6-B5EC-AC3157D310CF.wav  1.942250   \n",
      "\n",
      "                   tempo   pitch_mean       zcr  mfcc_mean   wpm  hesitations  \\\n",
      "0   [133.92857142857142]   709.371277  0.158249  -5.705164   2.0            1   \n",
      "1   [104.16666666666667]   722.683044  0.156565  -3.414417   0.0            0   \n",
      "2               [156.25]  1005.198303  0.242405 -14.090287   2.0            0   \n",
      "3   [104.16666666666667]   957.673950  0.195500  -2.287779  36.0           15   \n",
      "4   [133.92857142857142]  1498.722656  0.144203  -2.306716   0.0            0   \n",
      "..                   ...          ...       ...        ...   ...          ...   \n",
      "76            [117.1875]   959.661865  0.103686  -6.812960   8.0            0   \n",
      "77            [117.1875]   937.939697  0.199660 -11.224642   2.0            0   \n",
      "78            [117.1875]   980.428955  0.203678  -2.832051   2.0            0   \n",
      "79               [93.75]   860.921753  0.184743  -8.084472   2.0            0   \n",
      "80  [104.16666666666667]   682.243408  0.150611  -8.442811   2.0            0   \n",
      "\n",
      "    avg_word_len  sentiment_score      label  anomaly  \n",
      "0            2.0         0.880881  parkinson        1  \n",
      "1            0.0         0.748121  parkinson        1  \n",
      "2           17.0         0.995499  parkinson        1  \n",
      "3            5.0         0.998455  parkinson       -1  \n",
      "4            0.0         0.748121  parkinson       -1  \n",
      "..           ...              ...        ...      ...  \n",
      "76           2.5         0.786661     common        1  \n",
      "77           3.0         0.730087     common        1  \n",
      "78           5.0         0.999688     common        1  \n",
      "79           2.0         0.980659     common        1  \n",
      "80           6.0         0.891627     common        1  \n",
      "\n",
      "[81 rows x 12 columns]\n"
     ]
    }
   ],
   "source": [
    "audio_data, labels = load_audio_files(\"23849127\")\n",
    "audio_df = extract_audio_features(audio_data)\n",
    "transcripts = transcribe(audio_data)\n",
    "nlp_df = extract_nlp_features(transcripts)\n",
    "merged_df = merge_features(audio_df, nlp_df, labels)\n",
    "scored_df, X_scaled = detect_anomalies(merged_df)\n",
    "visualize_clusters(X_scaled, scored_df[\"label\"])\n",
    "print(scored_df)"
   ]
  },
  {
   "cell_type": "code",
   "execution_count": null,
   "id": "7c96079f-b450-4cc3-b391-3cce4f76c989",
   "metadata": {},
   "outputs": [],
   "source": []
  }
 ],
 "metadata": {
  "kernelspec": {
   "display_name": "Python 3 (ipykernel)",
   "language": "python",
   "name": "python3"
  },
  "language_info": {
   "codemirror_mode": {
    "name": "ipython",
    "version": 3
   },
   "file_extension": ".py",
   "mimetype": "text/x-python",
   "name": "python",
   "nbconvert_exporter": "python",
   "pygments_lexer": "ipython3",
   "version": "3.10.11"
  }
 },
 "nbformat": 4,
 "nbformat_minor": 5
}
